{
 "cells": [
  {
   "cell_type": "markdown",
   "source": [
    "### Initial path definitions for model & records. \r\n",
    "Install the following requirements before beginning.\r\n",
    "\r\n",
    "- !pip install opencv-python\r\n",
    "- !pip install --upgrade pyqt5 lxml"
   ],
   "metadata": {}
  },
  {
   "cell_type": "code",
   "execution_count": null,
   "source": [
    "import cv2 \r\n",
    "import uuid\r\n",
    "import os\r\n",
    "import time"
   ],
   "outputs": [],
   "metadata": {}
  },
  {
   "cell_type": "code",
   "execution_count": null,
   "source": [
    "# If you photos are single per photo, then you would require the different folders. Otherwise just name the folder initialCollection\r\n",
    "labels = ['building', 'veg']\r\n",
    "IMAGES_PATH = os.path.join('Tensorflow', 'workspace', 'images', 'collectedimages')"
   ],
   "outputs": [],
   "metadata": {}
  },
  {
   "cell_type": "markdown",
   "source": [],
   "metadata": {}
  },
  {
   "cell_type": "code",
   "execution_count": null,
   "source": [
    "if not os.path.exists(IMAGES_PATH):\r\n",
    "    if os.name == 'posix':\r\n",
    "        !mkdir -p {IMAGES_PATH}\r\n",
    "    if os.name == 'nt':\r\n",
    "         !mkdir {IMAGES_PATH}\r\n",
    "for label in labels:\r\n",
    "    path = os.path.join(IMAGES_PATH, label)\r\n",
    "    if not os.path.exists(path):\r\n",
    "        !mkdir {path}"
   ],
   "outputs": [],
   "metadata": {}
  },
  {
   "cell_type": "code",
   "execution_count": null,
   "source": [
    "LABELIMG_PATH = os.path.join('Tensorflow', 'labelimg')\r\n",
    "\r\n",
    "if not os.path.exists(LABELIMG_PATH):\r\n",
    "    !mkdir {LABELIMG_PATH}\r\n",
    "    !git clone https://github.com/tzutalin/labelImg {LABELIMG_PATH}"
   ],
   "outputs": [],
   "metadata": {}
  },
  {
   "cell_type": "code",
   "execution_count": null,
   "source": [
    "if os.name == 'posix':\r\n",
    "    !cd {LABELIMG_PATH} && make qt5py3\r\n",
    "if os.name =='nt':\r\n",
    "    !cd {LABELIMG_PATH} && pyrcc5 -o libs/resources.py resources.qrc"
   ],
   "outputs": [],
   "metadata": {}
  },
  {
   "cell_type": "code",
   "execution_count": null,
   "source": [
    "!cd {LABELIMG_PATH} && python labelImg.py"
   ],
   "outputs": [],
   "metadata": {}
  },
  {
   "cell_type": "markdown",
   "source": [
    "## Seperate the images to test & train folders under path - 'Tensorflow/workspace/images/test/' & 'Tensorflow/workspace/images/train/' along with their XML files."
   ],
   "metadata": {}
  },
  {
   "cell_type": "markdown",
   "source": [],
   "metadata": {}
  }
 ],
 "metadata": {
  "orig_nbformat": 4,
  "language_info": {
   "name": "python"
  }
 },
 "nbformat": 4,
 "nbformat_minor": 2
}