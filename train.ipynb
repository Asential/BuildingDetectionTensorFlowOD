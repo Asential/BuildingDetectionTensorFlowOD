{
 "cells": [
  {
   "cell_type": "markdown",
   "source": [
    "### Initial path definitions for model & records. \r\n",
    "Install the following requirements before beginning.\r\n",
    "\r\n",
    "- !pip install wget\r\n",
    "- !pip install tensorflow_gpu==2.6.0 --upgrade //Or newer version\r\n",
    "- !pip install protobuf matplotlib==3.4        //Or newer version\r\n",
    "- !pip install pyyaml\r\n",
    "- !pip install gin-config\r\n",
    "- !pip install pytz"
   ],
   "metadata": {}
  },
  {
   "cell_type": "code",
   "execution_count": null,
   "source": [
    "import os\r\n",
    "\r\n",
    "CUSTOM_MODEL_NAME = 'my_ssd_mobnet' \r\n",
    "PRETRAINED_MODEL_NAME = 'ssd_mobilenet_v2_fpnlite_320x320_coco17_tpu-8'\r\n",
    "PRETRAINED_MODEL_URL = 'http://download.tensorflow.org/models/object_detection/tf2/20200711/ssd_mobilenet_v2_fpnlite_320x320_coco17_tpu-8.tar.gz'\r\n",
    "TF_RECORD_SCRIPT_NAME = 'generate_tfrecord.py'\r\n",
    "LABEL_MAP_NAME = 'label_map.pbtxt'\r\n",
    "\r\n",
    "\r\n",
    "paths = {\r\n",
    "    'WORKSPACE_PATH': os.path.join('Tensorflow', 'workspace'),\r\n",
    "    'SCRIPTS_PATH': os.path.join('Tensorflow','scripts'),\r\n",
    "    'APIMODEL_PATH': os.path.join('Tensorflow','models'),\r\n",
    "    'ANNOTATION_PATH': os.path.join('Tensorflow', 'workspace','annotations'),\r\n",
    "    'IMAGE_PATH': os.path.join('Tensorflow', 'workspace','images'),\r\n",
    "    'MODEL_PATH': os.path.join('Tensorflow', 'workspace','models'),\r\n",
    "    'PRETRAINED_MODEL_PATH': os.path.join('Tensorflow', 'workspace','pre-trained-models'),\r\n",
    "    'CHECKPOINT_PATH': os.path.join('Tensorflow', 'workspace','models',CUSTOM_MODEL_NAME), \r\n",
    "    'OUTPUT_PATH': os.path.join('Tensorflow', 'workspace','models',CUSTOM_MODEL_NAME, 'export'), \r\n",
    "    'TFJS_PATH':os.path.join('Tensorflow', 'workspace','models',CUSTOM_MODEL_NAME, 'tfjsexport'), \r\n",
    "    'TFLITE_PATH':os.path.join('Tensorflow', 'workspace','models',CUSTOM_MODEL_NAME, 'tfliteexport'), \r\n",
    "    'PROTOC_PATH':os.path.join('Tensorflow','protoc')\r\n",
    " }\r\n",
    "\r\n",
    " files = {\r\n",
    "    'PIPELINE_CONFIG':os.path.join('Tensorflow', 'workspace','models', CUSTOM_MODEL_NAME, 'pipeline.config'),\r\n",
    "    'TF_RECORD_SCRIPT': os.path.join(paths['SCRIPTS_PATH'], TF_RECORD_SCRIPT_NAME), \r\n",
    "    'LABELMAP': os.path.join(paths['ANNOTATION_PATH'], LABEL_MAP_NAME)\r\n",
    "}"
   ],
   "outputs": [],
   "metadata": {}
  },
  {
   "cell_type": "code",
   "execution_count": null,
   "source": [
    "for path in paths.values():\r\n",
    "    if not os.path.exists(path):\r\n",
    "        if os.name == 'posix':\r\n",
    "            !mkdir -p {path}\r\n",
    "        if os.name == 'nt':\r\n",
    "            !mkdir {path}"
   ],
   "outputs": [],
   "metadata": {}
  },
  {
   "cell_type": "code",
   "execution_count": null,
   "source": [
    "import wget\r\n",
    "\r\n",
    "if not os.path.exists(os.path.join(paths['APIMODEL_PATH'], 'research', 'object_detection')):\r\n",
    "    !git clone https://github.com/tensorflow/models {paths['APIMODEL_PATH']}"
   ],
   "outputs": [],
   "metadata": {}
  },
  {
   "cell_type": "code",
   "execution_count": null,
   "source": [
    "if os.name=='posix':  \r\n",
    "    !apt-get install protobuf-compiler\r\n",
    "    !cd Tensorflow/models/research && protoc object_detection/protos/*.proto --python_out=. && cp object_detection/packages/tf2/setup.py . && python -m pip install . \r\n",
    "\r\n",
    "if os.name=='nt':\r\n",
    "    url=\"https://github.com/protocolbuffers/protobuf/releases/download/v3.15.6/protoc-3.15.6-win64.zip\"\r\n",
    "    wget.download(url)\r\n",
    "    !move protoc-3.15.6-win64.zip {paths['PROTOC_PATH']}\r\n",
    "    !cd {paths['PROTOC_PATH']} && tar -xf protoc-3.15.6-win64.zip\r\n",
    "    os.environ['PATH'] += os.pathsep + os.path.abspath(os.path.join(paths['PROTOC_PATH'], 'bin'))   \r\n",
    "    !cd Tensorflow/models/research && protoc object_detection/protos/*.proto --python_out=. && copy object_detection\\\\packages\\\\tf2\\\\setup.py setup.py && python setup.py build && python setup.py install\r\n",
    "    !cd Tensorflow/models/research/slim && pip install -e . "
   ],
   "outputs": [],
   "metadata": {}
  },
  {
   "cell_type": "code",
   "execution_count": null,
   "source": [
    "VERIFICATION_SCRIPT = os.path.join(paths['APIMODEL_PATH'], 'research', 'object_detection', 'builders', 'model_builder_tf2_test.py')\r\n",
    "# Verify Installation\r\n",
    "!python {VERIFICATION_SCRIPT}"
   ],
   "outputs": [],
   "metadata": {}
  },
  {
   "cell_type": "code",
   "execution_count": null,
   "source": [
    "import object_detection\r\n",
    "\r\n",
    "if os.name =='posix':\r\n",
    "    !wget {PRETRAINED_MODEL_URL}\r\n",
    "    !mv {PRETRAINED_MODEL_NAME+'.tar.gz'} {paths['PRETRAINED_MODEL_PATH']}\r\n",
    "    !cd {paths['PRETRAINED_MODEL_PATH']} && tar -zxvf {PRETRAINED_MODEL_NAME+'.tar.gz'}\r\n",
    "if os.name == 'nt':\r\n",
    "    wget.download(PRETRAINED_MODEL_URL)\r\n",
    "    !move {PRETRAINED_MODEL_NAME+'.tar.gz'} {paths['PRETRAINED_MODEL_PATH']}\r\n",
    "    !cd {paths['PRETRAINED_MODEL_PATH']} && tar -zxvf {PRETRAINED_MODEL_NAME+'.tar.gz'}\r\n"
   ],
   "outputs": [],
   "metadata": {}
  },
  {
   "cell_type": "code",
   "execution_count": null,
   "source": [
    "labels = [{'name':'building', 'id':1}, {'name':'veg', 'id':2}]\r\n",
    "\r\n",
    "with open(files['LABELMAP'], 'w') as f:\r\n",
    "    for label in labels:\r\n",
    "        f.write('item { \\n')\r\n",
    "        f.write('\\tname:\\'{}\\'\\n'.format(label['name']))\r\n",
    "        f.write('\\tid:{}\\n'.format(label['id']))\r\n",
    "        f.write('}\\n')\r\n",
    "    \r\n",
    "if not os.path.exists(files['TF_RECORD_SCRIPT']):\r\n",
    "    !git clone https://github.com/nicknochnack/GenerateTFRecord {paths['SCRIPTS_PATH']}"
   ],
   "outputs": [],
   "metadata": {}
  },
  {
   "cell_type": "code",
   "execution_count": null,
   "source": [
    "!python {files['TF_RECORD_SCRIPT']} -x {os.path.join(paths['IMAGE_PATH'], 'train')} -l {files['LABELMAP']} -o {os.path.join(paths['ANNOTATION_PATH'], 'train.record')} \r\n",
    "!python {files['TF_RECORD_SCRIPT']} -x {os.path.join(paths['IMAGE_PATH'], 'test')} -l {files['LABELMAP']} -o {os.path.join(paths['ANNOTATION_PATH'], 'test.record')} "
   ],
   "outputs": [],
   "metadata": {}
  },
  {
   "cell_type": "code",
   "execution_count": null,
   "source": [
    "if os.name =='posix':\r\n",
    "    !cp {os.path.join(paths['PRETRAINED_MODEL_PATH'], PRETRAINED_MODEL_NAME, 'pipeline.config')} {os.path.join(paths['CHECKPOINT_PATH'])}\r\n",
    "if os.name == 'nt':\r\n",
    "    !copy {os.path.join(paths['PRETRAINED_MODEL_PATH'], PRETRAINED_MODEL_NAME, 'pipeline.config')} {os.path.join(paths['CHECKPOINT_PATH'])}"
   ],
   "outputs": [],
   "metadata": {}
  },
  {
   "cell_type": "code",
   "execution_count": null,
   "source": [
    "import tensorflow as tf\r\n",
    "from object_detection.utils import config_util\r\n",
    "from object_detection.protos import pipeline_pb2\r\n",
    "from google.protobuf import text_format\r\n",
    "\r\n",
    "config = config_util.get_configs_from_pipeline_file(files['PIPELINE_CONFIG'])\r\n",
    "\r\n",
    "pipeline_config = pipeline_pb2.TrainEvalPipelineConfig()\r\n",
    "with tf.io.gfile.GFile(files['PIPELINE_CONFIG'], \"r\") as f:                                                                                                                                                                                                                     \r\n",
    "    proto_str = f.read()                                                                                                                                                                                                                                          \r\n",
    "    text_format.Merge(proto_str, pipeline_config)  \r\n",
    "\r\n",
    "pipeline_config.model.ssd.num_classes = len(labels)\r\n",
    "\r\n",
    "# Change Batch Size Here\r\n",
    "pipeline_config.train_config.batch_size = 4\r\n",
    "\r\n",
    "pipeline_config.train_config.fine_tune_checkpoint = os.path.join(paths['PRETRAINED_MODEL_PATH'], PRETRAINED_MODEL_NAME, 'checkpoint', 'ckpt-0')\r\n",
    "pipeline_config.train_config.fine_tune_checkpoint_type = \"detection\"\r\n",
    "pipeline_config.train_input_reader.label_map_path= files['LABELMAP']\r\n",
    "pipeline_config.train_input_reader.tf_record_input_reader.input_path[:] = [os.path.join(paths['ANNOTATION_PATH'], 'train.record')]\r\n",
    "pipeline_config.eval_input_reader[0].label_map_path = files['LABELMAP']\r\n",
    "pipeline_config.eval_input_reader[0].tf_record_input_reader.input_path[:] = [os.path.join(paths['ANNOTATION_PATH'], 'test.record')]\r\n",
    "\r\n",
    "config_text = text_format.MessageToString(pipeline_config)                                                                                                                                                                                                        \r\n",
    "with tf.io.gfile.GFile(files['PIPELINE_CONFIG'], \"wb\") as f:                                                                                                                                                                                                                     \r\n",
    "    f.write(config_text)   "
   ],
   "outputs": [],
   "metadata": {}
  },
  {
   "cell_type": "code",
   "execution_count": null,
   "source": [
    "TRAINING_SCRIPT = os.path.join(paths['APIMODEL_PATH'], 'research', 'object_detection', 'model_main_tf2.py')\r\n",
    "\r\n",
    "# You can change the number of steps here. Default = 2000\r\n",
    "command = \"python {} --model_dir={} --pipeline_config_path={} --num_train_steps=2000\".format(TRAINING_SCRIPT, paths['CHECKPOINT_PATH'],files['PIPELINE_CONFIG'])\r\n",
    "\r\n",
    "#Run the command on a terminal to get progress details as well.\r\n",
    "print(command)"
   ],
   "outputs": [],
   "metadata": {}
  },
  {
   "cell_type": "code",
   "execution_count": null,
   "source": [
    "command = \"python {} --model_dir={} --pipeline_config_path={} --checkpoint_dir={}\".format(TRAINING_SCRIPT, paths['CHECKPOINT_PATH'],files['PIPELINE_CONFIG'], paths['CHECKPOINT_PATH'])\r\n",
    "\r\n",
    "print(command)"
   ],
   "outputs": [],
   "metadata": {}
  },
  {
   "cell_type": "code",
   "execution_count": null,
   "source": [
    "paths['MODULE_EVAL'] = os.path.join('Tensorflow', 'workspace','models',CUSTOM_MODEL_NAME, 'eval')\r\n",
    "paths['MODULE_TRAIN'] = os.path.join('Tensorflow', 'workspace','models',CUSTOM_MODEL_NAME, 'train')\r\n",
    "\r\n",
    "# Run either of these at a time since they are hosted at the same address.\r\n",
    "!cd {paths['MODULE_TRAIN']} && tensorboard --logdir=.\r\n",
    "\r\n",
    "!cd {paths['MODULE_EVAL']} && tensorboard --logdir=."
   ],
   "outputs": [],
   "metadata": {}
  }
 ],
 "metadata": {
  "orig_nbformat": 4,
  "language_info": {
   "name": "python",
   "version": "3.8.3"
  },
  "kernelspec": {
   "name": "python3",
   "display_name": "Python 3.8.3 32-bit"
  },
  "interpreter": {
   "hash": "4ce0e62306dd6a5716965d4519ada776f947e6dfc145b604b11307c10277ef29"
  }
 },
 "nbformat": 4,
 "nbformat_minor": 2
}